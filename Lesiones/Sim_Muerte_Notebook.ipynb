{
 "cells": [
  {
   "cell_type": "code",
   "execution_count": 11,
   "metadata": {},
   "outputs": [],
   "source": [
    "##  Llamamos a las librerias para hacer el web scrapping\n",
    "import pandas as pd\n",
    "import numpy as np\n",
    "import random\n",
    "import sys\n",
    "sys.path.append(\"C:/Users/luisr/OneDrive/Desktop/ANBA/23_24/Lesiones\")\n",
    "import aux_func\n"
   ]
  },
  {
   "cell_type": "code",
   "execution_count": 2,
   "metadata": {},
   "outputs": [],
   "source": [
    "equipos_vivos = ['ATL','BOS','BKN','CHI','CHA','CLE','DET','IND','MIA','MIL','NYK','ORL','PHI','TOR','WAS','DAL','DEN','GSW','HOU','LAC','LAL','MEM','MIN','NOP','OKC','PHO','POR','SAC','SAS','UTA']"
   ]
  },
  {
   "cell_type": "code",
   "execution_count": 3,
   "metadata": {},
   "outputs": [
    {
     "name": "stdout",
     "output_type": "stream",
     "text": [
      "Scrappeando estadisticas de jugadores. Espere...\n"
     ]
    },
    {
     "name": "stderr",
     "output_type": "stream",
     "text": [
      "  0%|          | 0/27 [00:00<?, ?it/s]"
     ]
    },
    {
     "name": "stderr",
     "output_type": "stream",
     "text": [
      "100%|██████████| 27/27 [03:30<00:00,  7.81s/it]\n"
     ]
    }
   ],
   "source": [
    " ##  Definimos de que temporada queremos los datos\n",
    "season = '2022-2023'\n",
    "\n",
    "##  Scrapeamos stats jugadores\n",
    "stats_players = aux_func.scrapping_stats_players(season, 27)"
   ]
  },
  {
   "cell_type": "code",
   "execution_count": 5,
   "metadata": {},
   "outputs": [
    {
     "name": "stdout",
     "output_type": "stream",
     "text": [
      "Scrappeando estadisticas de equipos. Espere...\n"
     ]
    }
   ],
   "source": [
    "##  Stats Equipo -> Para saber el numero de partidos de cada equipo\n",
    "stats_teams = aux_func.scrapping_stats_teams(season,'No')"
   ]
  },
  {
   "cell_type": "code",
   "execution_count": null,
   "metadata": {},
   "outputs": [],
   "source": [
    "##  Indice de jugadores\n",
    "index = aux_func.scrapping_player_index(70)\n",
    "index = index.replace(\"PHX\",\"PHO\")"
   ]
  },
  {
   "cell_type": "code",
   "execution_count": 13,
   "metadata": {},
   "outputs": [],
   "source": [
    "##  Cogemos los que tienen equipo actualmente\n",
    "index = index[index['Equipo'] != 'Agente Libre'] "
   ]
  },
  {
   "cell_type": "code",
   "execution_count": 15,
   "metadata": {},
   "outputs": [],
   "source": [
    "##  Para poder hacer merge necesitamos que los nombres esten en el mismo format\n",
    "stats_players = aux_func.invert_name_format(stats_players)"
   ]
  },
  {
   "cell_type": "code",
   "execution_count": 16,
   "metadata": {},
   "outputs": [],
   "source": [
    "## Merge\n",
    "merged_stats = index.merge(stats_players, on = 'Jugador',how = 'left')"
   ]
  },
  {
   "cell_type": "code",
   "execution_count": 17,
   "metadata": {},
   "outputs": [],
   "source": [
    "##  Seleccionamos solo las columnas que vamos a usar\n",
    "final_stats = merged_stats[['Jugador','Equipo_x','PJ','MIN']]"
   ]
  },
  {
   "cell_type": "code",
   "execution_count": null,
   "metadata": {},
   "outputs": [],
   "source": [
    "##  Reemplazamos NAs por 0\n",
    "final_stats['MIN'] = final_stats['MIN'].replace(np.nan, 0)\n",
    "final_stats['PJ'] = final_stats['PJ'].replace(np.nan, 0)"
   ]
  },
  {
   "cell_type": "code",
   "execution_count": 21,
   "metadata": {},
   "outputs": [],
   "source": [
    "##  Para usar las stats de equipo, parseamos nombre de los equipos\n",
    "stats_teams = aux_func.parse_team_names(stats_teams)"
   ]
  },
  {
   "cell_type": "code",
   "execution_count": 22,
   "metadata": {},
   "outputs": [],
   "source": [
    "##  Nos falta otro merge para los partidos jugados por el equipo\n",
    "merged_stats2 = final_stats.merge(stats_teams, left_on='Equipo_x', right_on='Equipo',how = 'left')"
   ]
  },
  {
   "cell_type": "code",
   "execution_count": 24,
   "metadata": {},
   "outputs": [],
   "source": [
    "##  Ya tenemos el dataframe final\n",
    "final_stats = merged_stats2[['Jugador','Equipo_x','PJ_x','MIN','PJ_y']]\n",
    "final_stats.columns =['Jugador','Equipo','PJ_jug','MIN','PJ_Eq']\n"
   ]
  },
  {
   "cell_type": "code",
   "execution_count": null,
   "metadata": {},
   "outputs": [],
   "source": [
    "##  Calculamos los pesos de cada jugador segun sus minutos\n",
    "final_stats['peso'] = (final_stats['MIN'] + final_stats['PJ_Eq'] * 10)"
   ]
  },
  {
   "cell_type": "code",
   "execution_count": 27,
   "metadata": {},
   "outputs": [],
   "source": [
    "##  Filtramos solo para los equipos vivos\n",
    "final_stats = final_stats[final_stats['Equipo'].isin(equipos_vivos)]"
   ]
  },
  {
   "cell_type": "code",
   "execution_count": 49,
   "metadata": {},
   "outputs": [
    {
     "data": {
      "text/plain": [
       "['Norman Powell']"
      ]
     },
     "execution_count": 49,
     "metadata": {},
     "output_type": "execute_result"
    }
   ],
   "source": [
    "##  Elegimos jugador a morir\n",
    "dead_player = random.choices(list(final_stats['Jugador']), weights=tuple(final_stats['peso']), k=1)\n",
    "dead_player"
   ]
  },
  {
   "cell_type": "code",
   "execution_count": 50,
   "metadata": {},
   "outputs": [],
   "source": [
    "## Creamos dataframe con los datos de las lesiones\n",
    "lesiones = ['Quadriceps tendon','ACL','MCL','Achilles','Patellar tendon']\n",
    "\n",
    "datos_lesiones = pd.DataFrame(lesiones)\n",
    "datos_lesiones['numero'] = [3,33,5,23,6]\n",
    "datos_lesiones['media'] = [305,410,434,346,413]\n",
    "datos_lesiones['min'] = [212,232,194,210,198]\n",
    "datos_lesiones['max'] = [371,1110,836,614,886]\n",
    "datos_lesiones['stdev'] = [83,179,251,99,246]"
   ]
  },
  {
   "cell_type": "code",
   "execution_count": 51,
   "metadata": {},
   "outputs": [],
   "source": [
    "##  Elegimos lesion aleatoriamente usando las prob de ocurrencia\n",
    "lesion = random.choices(list(datos_lesiones[0]), weights=tuple(datos_lesiones['numero']), k=1)\n",
    "lesion = lesion[0]"
   ]
  },
  {
   "cell_type": "code",
   "execution_count": 52,
   "metadata": {},
   "outputs": [
    {
     "name": "stderr",
     "output_type": "stream",
     "text": [
      "C:\\Users\\luisr\\AppData\\Local\\Temp\\ipykernel_18488\\2550864755.py:6: FutureWarning: Calling float on a single element Series is deprecated and will raise a TypeError in the future. Use float(ser.iloc[0]) instead\n",
      "  minimo = float(datos_lesiones[datos_lesiones[0] == lesion]['min'])\n",
      "C:\\Users\\luisr\\AppData\\Local\\Temp\\ipykernel_18488\\2550864755.py:7: FutureWarning: Calling float on a single element Series is deprecated and will raise a TypeError in the future. Use float(ser.iloc[0]) instead\n",
      "  maximo = float(datos_lesiones[datos_lesiones[0] == lesion]['max'])\n",
      "C:\\Users\\luisr\\AppData\\Local\\Temp\\ipykernel_18488\\2550864755.py:9: FutureWarning: Calling float on a single element Series is deprecated and will raise a TypeError in the future. Use float(ser.iloc[0]) instead\n",
      "  duracion = float(random.gauss(mean, stdev))\n"
     ]
    }
   ],
   "source": [
    "##  Para la duracion, debemos sacar un num aletorio con distrib normal centrada\n",
    "##  en la media calculada\n",
    "\n",
    "mean = datos_lesiones[datos_lesiones[0] == lesion]['media']\n",
    "stdev = datos_lesiones[datos_lesiones[0] == lesion]['stdev']\n",
    "minimo = float(datos_lesiones[datos_lesiones[0] == lesion]['min']) \n",
    "maximo = float(datos_lesiones[datos_lesiones[0] == lesion]['max'])\n",
    "\n",
    "duracion = float(random.gauss(mean, stdev))\n",
    "while duracion < minimo or duracion > maximo:\n",
    "    duracion = float(random.gauss(mean, stdev))\n",
    "\n",
    "duracion = round(duracion,0)\n",
    "\n"
   ]
  },
  {
   "cell_type": "code",
   "execution_count": 53,
   "metadata": {},
   "outputs": [],
   "source": [
    "aux_func.popupmsg('Jugador: ' + str(dead_player[0]) + '  lesion: ' + str(lesion) + '    duracion: ' + str(duracion) + ' dias')"
   ]
  }
 ],
 "metadata": {
  "kernelspec": {
   "display_name": "base",
   "language": "python",
   "name": "python3"
  },
  "language_info": {
   "codemirror_mode": {
    "name": "ipython",
    "version": 3
   },
   "file_extension": ".py",
   "mimetype": "text/x-python",
   "name": "python",
   "nbconvert_exporter": "python",
   "pygments_lexer": "ipython3",
   "version": "3.11.5"
  },
  "orig_nbformat": 4
 },
 "nbformat": 4,
 "nbformat_minor": 2
}
